{
  "cells": [
    {
      "cell_type": "code",
      "execution_count": 1,
      "id": "bd159b69",
      "metadata": {},
      "outputs": [],
      "source": [
        "# Lee un ejercicio desde una imagen\n",
        "# y lo convierte en un documento LaTeX."
      ]
    },
    {
      "cell_type": "code",
      "execution_count": null,
      "id": "glBtW4t4ewkI",
      "metadata": {
        "colab": {
          "base_uri": "https://localhost:8080/"
        },
        "collapsed": true,
        "id": "glBtW4t4ewkI",
        "outputId": "0d30bea3-2e64-4217-a74e-65538bee6244"
      },
      "outputs": [],
      "source": [
        "%%capture outputtext\n",
        "\n",
        "# Colab:\n",
        "!pip install langchain-community\n",
        "!pip install langchain-ollama\n",
        "!curl -fsSL https://ollama.com/install.sh | sh\n",
        "!ollama serve &>/dev/null&\n",
        "\n",
        "# # Local:\n",
        "# import os\n",
        "# environment= 'local'\n",
        "# os.system('ollama serve &>/dev/null&')"
      ]
    },
    {
      "cell_type": "code",
      "execution_count": null,
      "id": "4c91ea94",
      "metadata": {},
      "outputs": [],
      "source": [
        "# !ollama pull llama3.1\n",
        "# !ollama pull llama3.2-vision\n",
        "!ollama pull qwen2.5vl:7b"
      ]
    },
    {
      "cell_type": "code",
      "execution_count": 17,
      "id": "-voJEtbKioep",
      "metadata": {
        "id": "-voJEtbKioep"
      },
      "outputs": [],
      "source": [
        "from langchain_ollama import ChatOllama\n",
        "from IPython.display import display, Markdown, Latex\n",
        "from langchain_core.prompts import ChatPromptTemplate\n",
        "\n",
        "import base64\n",
        "import httpx"
      ]
    },
    {
      "cell_type": "code",
      "execution_count": null,
      "id": "70d379b5",
      "metadata": {},
      "outputs": [],
      "source": [
        "myllm = ChatOllama(\n",
        "    model = \"qwen2.5vl:7b\",\n",
        "    # model = \"llama3.2-vision\",\n",
        "    # model = \"llama3.1\",\n",
        "    # model = \"llama3.1:8b\",\n",
        "    # temperature = 0.8,  # default en llama\n",
        ")"
      ]
    },
    {
      "cell_type": "code",
      "execution_count": null,
      "id": "33a1a6c0",
      "metadata": {},
      "outputs": [
        {
          "name": "stdout",
          "output_type": "stream",
          "text": [
            "Warning: No remote file name, uses \"curl_response\"\n",
            "  % Total    % Received % Xferd  Average Speed   Time    Time     Time  Current\n",
            "                                 Dload  Upload   Total   Spent    Left  Speed\n",
            "  0     0    0     0    0     0      0      0 --:--:--  0:00:03 --:--:--     0curl: (6) Could not resolve host: url\n"
          ]
        }
      ],
      "source": [
        "filename = 'jackson_2_7.jpg'\n",
        "# filename = 'ejercicio-calorimetria.png'\n",
        "\n",
        "url = 'https://raw.githubusercontent.com/frautn/llamita/dev/data/' + filename\n",
        "# url = 'https://raw.githubusercontent.com/frautn/llamita/main/data/' + filename\n",
        "!curl -OL {url}\n",
        "\n",
        "with open(filename, \"rb\") as image_file:\n",
        "    image_data = base64.b64encode(image_file.read())"
      ]
    },
    {
      "cell_type": "code",
      "execution_count": null,
      "id": "02ae05f6",
      "metadata": {},
      "outputs": [],
      "source": [
        "message = {\n",
        "    \"role\": \"user\",\n",
        "    \"content\": [\n",
        "        {\n",
        "            \"type\": \"text\",\n",
        "            \"text\": \"Transcribe the text in the image. Don't solve the problem.\",\n",
        "        },\n",
        "        {\n",
        "            \"type\": \"image\",\n",
        "            \"source_type\": \"base64\",\n",
        "            \"data\": image_data.decode('utf8'),\n",
        "            \"mime_type\": \"image/jpg\",\n",
        "        },\n",
        "    ],\n",
        "}\n",
        "\n",
        "response = myllm.invoke([message])\n",
        "print(response.text())"
      ]
    },
    {
      "cell_type": "code",
      "execution_count": null,
      "id": "5b6f038e",
      "metadata": {},
      "outputs": [],
      "source": [
        "# Ejercicio resuelto a mano.\n",
        "\n",
        "filename = 'parcial1_2025_1a_00.jpg'\n",
        "\n",
        "url = 'https://raw.githubusercontent.com/frautn/llamita/dev/data/' + filename\n",
        "# url = 'https://raw.githubusercontent.com/frautn/llamita/main/data/' + filename\n",
        "!curl -OL {url}\n",
        "\n",
        "with open(filename, \"rb\") as image_file:\n",
        "    image_data = base64.b64encode(image_file.read())\n"
      ]
    },
    {
      "cell_type": "code",
      "execution_count": null,
      "id": "33594634",
      "metadata": {},
      "outputs": [],
      "source": [
        "message = {\n",
        "    \"role\": \"user\",\n",
        "    \"content\": [\n",
        "        {\n",
        "            \"type\": \"text\",\n",
        "            \"text\": \"Transcribe the text in the image into a LaTeX document.\",\n",
        "        },\n",
        "        {\n",
        "            \"type\": \"image\",\n",
        "            \"source_type\": \"base64\",\n",
        "            \"data\": image_data.decode('utf8'),\n",
        "            \"mime_type\": \"image/jpg\",\n",
        "        },\n",
        "    ],\n",
        "}\n",
        "\n",
        "response = myllm.invoke([message])\n",
        "print(response.text())"
      ]
    },
    {
      "cell_type": "code",
      "execution_count": null,
      "id": "12ddaa68",
      "metadata": {},
      "outputs": [],
      "source": [
        "# Ejercicio resuelto a mano. dos ítems.\n",
        "\n",
        "filename = 'parcial1_2025_1_00.jpg'\n",
        "\n",
        "url = 'https://raw.githubusercontent.com/frautn/llamita/dev/data/' + filename\n",
        "# url = 'https://raw.githubusercontent.com/frautn/llamita/main/data/' + filename\n",
        "!curl -OL {url}\n",
        "\n",
        "with open(filename, \"rb\") as image_file:\n",
        "    image_data = base64.b64encode(image_file.read())\n"
      ]
    },
    {
      "cell_type": "code",
      "execution_count": null,
      "id": "d4061f6f",
      "metadata": {},
      "outputs": [],
      "source": [
        "message = {\n",
        "    \"role\": \"user\",\n",
        "    \"content\": [\n",
        "        {\n",
        "            \"type\": \"text\",\n",
        "            \"text\": \"Transcribe the text in the image into a LaTeX document.\",\n",
        "        },\n",
        "        {\n",
        "            \"type\": \"image\",\n",
        "            \"source_type\": \"base64\",\n",
        "            \"data\": image_data.decode('utf8'),\n",
        "            \"mime_type\": \"image/jpg\",\n",
        "        },\n",
        "    ],\n",
        "}\n",
        "\n",
        "response = myllm.invoke([message])\n",
        "print(response.text())"
      ]
    },
    {
      "cell_type": "code",
      "execution_count": null,
      "id": "09523b62",
      "metadata": {},
      "outputs": [],
      "source": [
        "# Ejercicio resuelto a mano. dos ítems.\n",
        "\n",
        "filename = 'parcial1_2025_1_00.jpg'\n",
        "\n",
        "url = 'https://raw.githubusercontent.com/frautn/llamita/dev/data/' + filename\n",
        "# url = 'https://raw.githubusercontent.com/frautn/llamita/main/data/' + filename\n",
        "!curl -OL {url}\n",
        "\n",
        "with open(filename, \"rb\") as image_file:\n",
        "    image_data = base64.b64encode(image_file.read())"
      ]
    },
    {
      "cell_type": "code",
      "execution_count": null,
      "id": "3ed4d669",
      "metadata": {},
      "outputs": [],
      "source": [
        "message = {\n",
        "    \"role\": \"user\",\n",
        "    \"content\": [\n",
        "        {\n",
        "            \"type\": \"text\",\n",
        "            \"text\": \"Transcribe the text in the image into a LaTeX document.\",\n",
        "        },\n",
        "        {\n",
        "            \"type\": \"image\",\n",
        "            \"source_type\": \"base64\",\n",
        "            \"data\": image_data.decode('utf8'),\n",
        "            \"mime_type\": \"image/jpg\",\n",
        "        },\n",
        "    ],\n",
        "}\n",
        "\n",
        "response = myllm.invoke([message])\n",
        "print(response.text())"
      ]
    },
    {
      "cell_type": "code",
      "execution_count": null,
      "id": "7d198e38",
      "metadata": {},
      "outputs": [],
      "source": [
        "%%capture outputtext\n",
        "\n",
        "# Si se desea generar un pdf\n",
        "! apt-get install -y texlive-xetex texlive-fonts-recommended texlive-latex-extra"
      ]
    },
    {
      "cell_type": "code",
      "execution_count": null,
      "id": "2f3e10ea",
      "metadata": {},
      "outputs": [],
      "source": [
        "%%capture outputtext\n",
        "\n",
        "output = response.text()\n",
        "output = output.strip(\"```latex\")\n",
        "file_path_output = \"output_qwen_parcial1_2025_1_00.tex\"\n",
        "\n",
        "with open(file_path_output, 'w') as file:\n",
        "    file.write(output)\n",
        "\n",
        "! pdflatex {file_path_output}"
      ]
    },
    {
      "cell_type": "code",
      "execution_count": null,
      "id": "5818e1fb",
      "metadata": {},
      "outputs": [],
      "source": [
        "# Ejercicio resuelto a mano, más desprolijo.\n",
        "\n",
        "filename = 'parcial1_2025_1_08.jpg'\n",
        "\n",
        "url = 'https://raw.githubusercontent.com/frautn/llamita/dev/data/' + filename\n",
        "# url = 'https://raw.githubusercontent.com/frautn/llamita/main/data/' + filename\n",
        "!curl -OL {url}\n",
        "\n",
        "with open(filename, \"rb\") as image_file:\n",
        "    image_data = base64.b64encode(image_file.read())\n"
      ]
    },
    {
      "cell_type": "code",
      "execution_count": null,
      "id": "97fb2f88",
      "metadata": {},
      "outputs": [],
      "source": [
        "message = {\n",
        "    \"role\": \"user\",\n",
        "    \"content\": [\n",
        "        {\n",
        "            \"type\": \"text\",\n",
        "            \"text\": \"Transcribe the text in the image into a LaTeX document.\",\n",
        "        },\n",
        "        {\n",
        "            \"type\": \"image\",\n",
        "            \"source_type\": \"base64\",\n",
        "            \"data\": image_data.decode('utf8'),\n",
        "            \"mime_type\": \"image/jpg\",\n",
        "        },\n",
        "    ],\n",
        "}\n",
        "\n",
        "response = myllm.invoke([message])\n",
        "print(response.text())\n",
        "\n",
        "# response.response_metadata\n",
        "# {'model': 'qwen2.5vl:7b',\n",
        "#  'created_at': '2025-08-06T13:36:36.590224956Z',\n",
        "#  'done': True,\n",
        "#  'done_reason': 'stop',\n",
        "#  'total_duration': 51539455418,\n",
        "#  'load_duration': 25196170230,\n",
        "#  'prompt_eval_count': 1262,\n",
        "#  'prompt_eval_duration': 5794482265,\n",
        "#  'eval_count': 675,\n",
        "#  'eval_duration': 20507970356,\n",
        "#  'model_name': 'qwen2.5vl:7b'}\n",
        "\n",
        "#\n",
        "# En este caso se pierden algunas líneas.\n",
        "# Es necesario corregir esta transcripción.\n",
        "#"
      ]
    },
    {
      "cell_type": "code",
      "execution_count": null,
      "id": "71991c75",
      "metadata": {},
      "outputs": [],
      "source": [
        "%%capture outputtext\n",
        "\n",
        "output = response.text()\n",
        "output = output.strip(\"```latex\")\n",
        "file_path_output = \"output_qwen_parcial1_2025_1_08.tex\"\n",
        "\n",
        "with open(file_path_output, 'w') as file:\n",
        "    file.write(output)\n",
        "\n",
        "! pdflatex {file_path_output}"
      ]
    },
    {
      "cell_type": "code",
      "execution_count": null,
      "id": "99c0eaf8",
      "metadata": {},
      "outputs": [],
      "source": [
        "# Ejercicio resuelto a mano en dos imágenes, desprolijo.\n",
        "\n",
        "filename = 'parcial1_2025_1a_09_01.jpg'\n",
        "\n",
        "url = 'https://raw.githubusercontent.com/frautn/llamita/dev/data/' + filename\n",
        "# url = 'https://raw.githubusercontent.com/frautn/llamita/main/data/' + filename\n",
        "!curl -OL {url}\n",
        "\n",
        "with open(filename, \"rb\") as image_file:\n",
        "    image_data_1 = base64.b64encode(image_file.read())\n",
        "\n",
        "filename = 'parcial1_2025_1a_09_02.jpg'\n",
        "\n",
        "url = 'https://raw.githubusercontent.com/frautn/llamita/dev/data/' + filename\n",
        "# url = 'https://raw.githubusercontent.com/frautn/llamita/main/data/' + filename\n",
        "!curl -OL {url}\n",
        "\n",
        "with open(filename, \"rb\") as image_file:\n",
        "    image_data_2 = base64.b64encode(image_file.read())"
      ]
    },
    {
      "cell_type": "code",
      "execution_count": null,
      "id": "5ad070a0",
      "metadata": {},
      "outputs": [],
      "source": [
        "message = {\n",
        "    \"role\": \"user\",\n",
        "    \"content\": [\n",
        "        {\n",
        "            \"type\": \"text\",\n",
        "            \"text\": \"Transcribe el texto de las imágenes en un documento LaTeX.\",\n",
        "        },\n",
        "        {\n",
        "            \"type\": \"image\",\n",
        "            \"source_type\": \"base64\",\n",
        "            \"data\": image_data_1.decode('utf8'),\n",
        "            \"mime_type\": \"image/jpg\",\n",
        "        },\n",
        "                {\n",
        "            \"type\": \"image\",\n",
        "            \"source_type\": \"base64\",\n",
        "            \"data\": image_data_2.decode('utf8'),\n",
        "            \"mime_type\": \"image/jpg\",\n",
        "        },\n",
        "    ],\n",
        "}\n",
        "\n",
        "response = myllm.invoke([message])\n",
        "print(response.text())\n",
        "\n",
        "# response.response_metadata\n",
        "# {'model': 'qwen2.5vl:7b',\n",
        "#  'created_at': '2025-08-06T13:47:56.068792469Z',\n",
        "#  'done': True,\n",
        "#  'done_reason': 'stop',\n",
        "#  'total_duration': 37902401011,\n",
        "#  'load_duration': 82326626,\n",
        "#  'prompt_eval_count': 2556,\n",
        "#  'prompt_eval_duration': 11736155932,\n",
        "#  'eval_count': 704,\n",
        "#  'eval_duration': 26052244031,\n",
        "#  'model_name': 'qwen2.5vl:7b'}\n",
        "\n",
        "# \n",
        "# El resultado es bastante malo.\n",
        "#"
      ]
    },
    {
      "cell_type": "code",
      "execution_count": null,
      "id": "416ff604",
      "metadata": {},
      "outputs": [],
      "source": [
        "%%capture outputtext\n",
        "\n",
        "output = response.text()\n",
        "output = output.strip(\"```latex\")\n",
        "file_path_output = \"output_qwen_parcial1_2025_1a_09.tex\"\n",
        "\n",
        "with open(file_path_output, 'w') as file:\n",
        "    file.write(output)\n",
        "\n",
        "! pdflatex {file_path_output}"
      ]
    }
  ],
  "metadata": {
    "accelerator": "GPU",
    "colab": {
      "gpuType": "T4",
      "provenance": []
    },
    "kernelspec": {
      "display_name": "llamita",
      "language": "python",
      "name": "python3"
    },
    "language_info": {
      "codemirror_mode": {
        "name": "ipython",
        "version": 3
      },
      "file_extension": ".py",
      "mimetype": "text/x-python",
      "name": "python",
      "nbconvert_exporter": "python",
      "pygments_lexer": "ipython3",
      "version": "3.12.11"
    }
  },
  "nbformat": 4,
  "nbformat_minor": 5
}
