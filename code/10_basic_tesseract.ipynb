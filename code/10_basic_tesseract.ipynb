{
 "cells": [
  {
   "cell_type": "code",
   "execution_count": 5,
   "id": "d8ee3e9c",
   "metadata": {},
   "outputs": [],
   "source": [
    "# It seems Tesseract is not good for Math. Even with custom languages.  \n"
   ]
  },
  {
   "cell_type": "code",
   "execution_count": 1,
   "id": "65c6a08e",
   "metadata": {},
   "outputs": [],
   "source": [
    "import pytesseract\n",
    "\n",
    "# # If images are not supported:\n",
    "# from PIL import Image\n",
    "# print(pytesseract.image_to_string(Image.open('test.png')))\n"
   ]
  },
  {
   "cell_type": "code",
   "execution_count": 2,
   "id": "f05023b9",
   "metadata": {},
   "outputs": [
    {
     "name": "stdout",
     "output_type": "stream",
     "text": [
      "1. En un recipiente cerrado y adiabatico se introdu-\n",
      "cen 200g de plomo fundido a su temperatura de fu-\n",
      "sion (328°C).\n",
      "\n",
      "a) Determine la cantidad necesaria de agua a 10°C\n",
      "para llevar el sistema a una temperatura final de\n",
      "30°C.\n",
      "\n",
      "b) Calcule la variacién de energia interna del plomo\n",
      "en ese proceso.\n",
      "\n",
      "Utilice: Cagua = 1cal/(g°C);\n",
      "\n",
      "Cplomo = 0,031 cal/(g°C); LF plomo = 5,35 cal/g.\n",
      "\n"
     ]
    }
   ],
   "source": [
    "filepath = '../data/' \n",
    "filename = 'ejercicio-calorimetria.png'\n",
    "\n",
    "print(pytesseract.image_to_string(filepath + filename))"
   ]
  },
  {
   "cell_type": "code",
   "execution_count": 4,
   "id": "de94605a",
   "metadata": {},
   "outputs": [
    {
     "name": "stdout",
     "output_type": "stream",
     "text": [
      "‘)o) Qo + Q =O\n",
      "-Mp Lop + Mp Cp ier dee, # OG Thy Tig J=O\n",
      "\n",
      "~209 9 - 5,35 col) + —_ ‘oats (z0¢- 2280) + Mad & (30¢- 10¢)-O\n",
      "\n",
      "J\n",
      "—(0F0 col - [84F,6 col +20 29 My =O\n",
      "\n",
      "My = 145,38 “\n",
      "\n",
      "b) AU, = O, - Wp\n",
      "AU, = Qp- © |\n",
      "i Ya -Mp Loot MpCp Tre Ge)\n",
      "= -lowto 4a — 1344,6 col\n",
      "= -2914,6 of\n",
      "\n",
      "− :\n",
      "AUp= - 2917,6 ok\n",
      "\n",
      "sissies ee Serer en\n",
      "\n"
     ]
    }
   ],
   "source": [
    "filename = 'parcial1_2025_1_00.jpg'\n",
    "\n",
    "# print(pytesseract.image_to_string(filepath + filename))\n",
    "print(pytesseract.image_to_string(filepath + filename, lang='eng+equ'))\n"
   ]
  },
  {
   "cell_type": "code",
   "execution_count": null,
   "id": "e1b5025c",
   "metadata": {},
   "outputs": [],
   "source": []
  },
  {
   "cell_type": "code",
   "execution_count": null,
   "id": "96af34a6",
   "metadata": {},
   "outputs": [],
   "source": [
    "# From the docs:\n",
    "\n",
    "# from PIL import Image\n",
    "\n",
    "import pytesseract\n",
    "\n",
    "# If you don't have tesseract executable in your PATH, include the following:\n",
    "pytesseract.pytesseract.tesseract_cmd = r'<full_path_to_your_tesseract_executable>'\n",
    "# Example tesseract_cmd = r'C:\\Program Files (x86)\\Tesseract-OCR\\tesseract'\n",
    "\n",
    "# Simple image to string\n",
    "print(pytesseract.image_to_string(Image.open('test.png')))\n",
    "\n",
    "# In order to bypass the image conversions of pytesseract, just use relative or absolute image path\n",
    "# NOTE: In this case you should provide tesseract supported images or tesseract will return error\n",
    "print(pytesseract.image_to_string('test.png'))\n",
    "\n",
    "# List of available languages\n",
    "print(pytesseract.get_languages(config=''))\n",
    "\n",
    "# French text image to string\n",
    "print(pytesseract.image_to_string(Image.open('test-european.jpg'), lang='fra'))\n",
    "\n",
    "# Batch processing with a single file containing the list of multiple image file paths\n",
    "print(pytesseract.image_to_string('images.txt'))\n",
    "\n",
    "# Timeout/terminate the tesseract job after a period of time\n",
    "try:\n",
    "    print(pytesseract.image_to_string('test.jpg', timeout=2)) # Timeout after 2 seconds\n",
    "    print(pytesseract.image_to_string('test.jpg', timeout=0.5)) # Timeout after half a second\n",
    "except RuntimeError as timeout_error:\n",
    "    # Tesseract processing is terminated\n",
    "    pass\n",
    "\n",
    "# Get bounding box estimates\n",
    "print(pytesseract.image_to_boxes(Image.open('test.png')))\n",
    "\n",
    "# Get verbose data including boxes, confidences, line and page numbers\n",
    "print(pytesseract.image_to_data(Image.open('test.png')))\n",
    "\n",
    "# Get information about orientation and script detection\n",
    "print(pytesseract.image_to_osd(Image.open('test.png')))\n",
    "\n",
    "# Get a searchable PDF\n",
    "pdf = pytesseract.image_to_pdf_or_hocr('test.png', extension='pdf')\n",
    "with open('test.pdf', 'w+b') as f:\n",
    "    f.write(pdf) # pdf type is bytes by default\n",
    "\n",
    "# Get HOCR output\n",
    "hocr = pytesseract.image_to_pdf_or_hocr('test.png', extension='hocr')\n",
    "\n",
    "# Get ALTO XML output\n",
    "xml = pytesseract.image_to_alto_xml('test.png')\n",
    "\n",
    "# getting multiple types of output with one call to save compute time\n",
    "# currently supports mix and match of the following: txt, pdf, hocr, box, tsv\n",
    "text, boxes = pytesseract.run_and_get_multiple_output('test.png', extensions=['txt', 'box'])"
   ]
  },
  {
   "cell_type": "code",
   "execution_count": 2,
   "id": "c9c7b1e2",
   "metadata": {},
   "outputs": [
    {
     "name": "stdout",
     "output_type": "stream",
     "text": [
      "['afr', 'amh', 'ara', 'asm', 'aze', 'aze_cyrl', 'bel', 'ben', 'bod', 'bos', 'bre', 'bul', 'cat', 'ceb', 'ces', 'chi_sim', 'chi_sim_vert', 'chi_tra', 'chi_tra_vert', 'chr', 'cos', 'cym', 'dan', 'deu', 'div', 'dzo', 'ell', 'eng', 'enm', 'epo', 'equ', 'est', 'eus', 'fao', 'fas', 'fil', 'fin', 'fra', 'frk', 'frm', 'fry', 'gla', 'gle', 'glg', 'grc', 'guj', 'hat', 'heb', 'hin', 'hrv', 'hun', 'hye', 'iku', 'ind', 'isl', 'ita', 'ita_old', 'jav', 'jpn', 'jpn_vert', 'kan', 'kat', 'kat_old', 'kaz', 'khm', 'kir', 'kmr', 'kor', 'kor_vert', 'lao', 'lat', 'lav', 'lit', 'ltz', 'mal', 'mar', 'mkd', 'mlt', 'mon', 'mri', 'msa', 'mya', 'nep', 'nld', 'nor', 'oci', 'ori', 'osd', 'pan', 'pol', 'por', 'pus', 'que', 'ron', 'rus', 'san', 'sin', 'slk', 'slv', 'snd', 'spa', 'spa_old', 'sqi', 'srp', 'srp_latn', 'sun', 'swa', 'swe', 'syr', 'tam', 'tat', 'tel', 'tgk', 'tha', 'tir', 'ton', 'tur', 'uig', 'ukr', 'urd', 'uzb', 'uzb_cyrl', 'vie', 'yid', 'yor']\n"
     ]
    }
   ],
   "source": [
    "print(pytesseract.get_languages(config=''))\n"
   ]
  },
  {
   "cell_type": "code",
   "execution_count": null,
   "id": "04bf9ac6",
   "metadata": {},
   "outputs": [],
   "source": []
  }
 ],
 "metadata": {
  "kernelspec": {
   "display_name": "llamita",
   "language": "python",
   "name": "python3"
  },
  "language_info": {
   "codemirror_mode": {
    "name": "ipython",
    "version": 3
   },
   "file_extension": ".py",
   "mimetype": "text/x-python",
   "name": "python",
   "nbconvert_exporter": "python",
   "pygments_lexer": "ipython3",
   "version": "3.12.11"
  }
 },
 "nbformat": 4,
 "nbformat_minor": 5
}
